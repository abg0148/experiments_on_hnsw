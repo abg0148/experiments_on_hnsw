{
 "cells": [
  {
   "cell_type": "code",
   "id": "initial_id",
   "metadata": {
    "collapsed": true,
    "ExecuteTime": {
     "end_time": "2025-06-18T00:08:20.860837Z",
     "start_time": "2025-06-18T00:08:20.748394Z"
    }
   },
   "source": [
    "from lib.paths import DATA_DIR, RESULTS_DIR\n",
    "from lib.vector_io import read_ivecs\n",
    "from lib.metrics import recall_at_k\n",
    "\n",
    "# Load files using project-relative paths\n",
    "gt = read_ivecs(DATA_DIR / \"siftsmall_groundtruth.ivecs\")\n",
    "pred = read_ivecs(RESULTS_DIR / \"sift_10k_hnsw_results.ivecs\")\n",
    "\n",
    "# Check shape\n",
    "print(\"Prediction shape:\", pred.shape)\n",
    "print(\"Ground truth shape:\", gt.shape)\n",
    "\n",
    "# Evaluate recall at various k\n",
    "for k in [1, 10, 100]:\n",
    "    r = recall_at_k(pred, gt, k)\n",
    "    print(f\"Recall@{k}: {r:.4f}\")\n"
   ],
   "outputs": [
    {
     "name": "stdout",
     "output_type": "stream",
     "text": [
      "Prediction shape: (100, 100)\n",
      "Ground truth shape: (100, 100)\n",
      "Recall@1: 1.0000\n",
      "Recall@10: 1.0000\n",
      "Recall@100: 0.9943\n"
     ]
    }
   ],
   "execution_count": 1
  },
  {
   "metadata": {},
   "cell_type": "code",
   "outputs": [],
   "execution_count": null,
   "source": "",
   "id": "3ee468bc6956f62d"
  }
 ],
 "metadata": {
  "kernelspec": {
   "display_name": "Python 3",
   "language": "python",
   "name": "python3"
  },
  "language_info": {
   "codemirror_mode": {
    "name": "ipython",
    "version": 2
   },
   "file_extension": ".py",
   "mimetype": "text/x-python",
   "name": "python",
   "nbconvert_exporter": "python",
   "pygments_lexer": "ipython2",
   "version": "2.7.6"
  }
 },
 "nbformat": 4,
 "nbformat_minor": 5
}
