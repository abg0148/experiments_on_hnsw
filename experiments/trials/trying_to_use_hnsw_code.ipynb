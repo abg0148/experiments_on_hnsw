{
 "cells": [
  {
   "cell_type": "code",
   "id": "initial_id",
   "metadata": {
    "collapsed": true,
    "ExecuteTime": {
     "end_time": "2025-06-18T00:02:31.560622Z",
     "start_time": "2025-06-18T00:02:30.646697Z"
    }
   },
   "source": [
    "import hnswlib\n",
    "import numpy as np\n",
    "import pickle\n",
    "\n",
    "dim = 128\n",
    "num_elements = 10000\n",
    "\n",
    "# Generating sample data\n",
    "data = np.float32(np.random.random((num_elements, dim)))\n",
    "ids = np.arange(num_elements)\n",
    "\n",
    "# Declaring index\n",
    "p = hnswlib.Index(space = 'l2', dim = dim) # possible options are l2, cosine or ip\n",
    "\n",
    "# Initializing index - the maximum number of elements should be known beforehand\n",
    "p.init_index(max_elements = num_elements, ef_construction = 200, M = 16)\n",
    "\n",
    "# Element insertion (can be called several times):\n",
    "p.add_items(data, ids)\n",
    "\n",
    "# Controlling the recall by setting ef:\n",
    "p.set_ef(50) # ef should always be > k\n",
    "\n",
    "# Query data, k - number of the closest elements (returns 2 numpy arrays)\n",
    "labels, distances = p.knn_query(data, k = 1)\n",
    "\n",
    "# Index objects support pickling\n",
    "# WARNING: serialization via pickle.dumps(p) or p.__getstate__() is NOT thread-safe with p.add_items method!\n",
    "# Note: ef parameter is included in serialization; random number generator is initialized with random_seed on Index load\n",
    "p_copy = pickle.loads(pickle.dumps(p)) # creates a copy of index p using pickle round-trip\n",
    "\n",
    "### Index parameters are exposed as class properties:\n",
    "print(f\"Parameters passed to constructor:  space={p_copy.space}, dim={p_copy.dim}\")\n",
    "print(f\"Index construction: M={p_copy.M}, ef_construction={p_copy.ef_construction}\")\n",
    "print(f\"Index size is {p_copy.element_count} and index capacity is {p_copy.max_elements}\")\n",
    "print(f\"Search speed/quality trade-off parameter: ef={p_copy.ef}\")"
   ],
   "outputs": [
    {
     "name": "stdout",
     "output_type": "stream",
     "text": [
      "Parameters passed to constructor:  space=l2, dim=128\n",
      "Index construction: M=16, ef_construction=200\n",
      "Index size is 10000 and index capacity is 10000\n",
      "Search speed/quality trade-off parameter: ef=50\n"
     ]
    }
   ],
   "execution_count": 1
  },
  {
   "metadata": {},
   "cell_type": "code",
   "outputs": [],
   "execution_count": null,
   "source": "",
   "id": "31cee71f3f0fa393"
  }
 ],
 "metadata": {
  "kernelspec": {
   "display_name": "Python 3",
   "language": "python",
   "name": "python3"
  },
  "language_info": {
   "codemirror_mode": {
    "name": "ipython",
    "version": 2
   },
   "file_extension": ".py",
   "mimetype": "text/x-python",
   "name": "python",
   "nbconvert_exporter": "python",
   "pygments_lexer": "ipython2",
   "version": "2.7.6"
  }
 },
 "nbformat": 4,
 "nbformat_minor": 5
}
